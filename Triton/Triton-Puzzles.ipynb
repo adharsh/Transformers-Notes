{
    "cells": [
        {
            "cell_type": "code",
            "execution_count": 1,
            "id": "12f9e74c-e54f-4bdc-984c-f94ddad7022e",
            "metadata": {
                "id": "dxs19Xx9_8Xg"
            },
            "outputs": [],
            "source": [
                "# %%capture\n",
                "# Only need to run the first time.\n",
                "# Works with latest triton. Sorry, this takes a minute to install.\n",
                "# !apt install libcairo2-dev pkg-config python3-dev\n",
                "# !pip install jaxtyping\n",
                "# !pip install git+https://github.com/Deep-Learning-Profiling-Tools/triton-viz@v1.1.1\n",
                "# !pip install triton-3.1.0\n",
                "# !pip install pycairo\n",
                "!export LC_ALL=\"en_US.UTF-8\"\n",
                "!export LD_LIBRARY_PATH=\"/usr/lib64-nvidia\"\n",
                "!export LIBRARY_PATH=\"/usr/local/cuda/lib64/stubs\"\n",
                "# !ldconfig /usr/lib64-nvidia\n",
                "\n",
                "import torch\n",
                "import triton\n",
                "from torch import Tensor\n",
                "import triton.language as tl\n",
                "import jaxtyping\n",
                "from jaxtyping import Float32, Int32\n",
                "\n",
                "# @title Setup\n",
                "\n",
                "import triton_viz\n",
                "import inspect\n",
                "from triton_viz.interpreter import record_builder\n",
                "\n",
                "assert torch.cuda.is_available()\n",
                "\n",
                "def test(puzzle, puzzle_spec, nelem={}, B={\"B0\": 32}, viz=False):\n",
                "    B = dict(B)\n",
                "    if \"N1\" in nelem and \"B1\" not in B:\n",
                "        B[\"B1\"] = 32\n",
                "    if \"N2\" in nelem and \"B2\" not in B:\n",
                "        B[\"B2\"] = 32\n",
                "\n",
                "    triton_viz.interpreter.record_builder.reset()\n",
                "    torch.manual_seed(0)\n",
                "    signature = inspect.signature(puzzle_spec)\n",
                "    args = {}\n",
                "    for n, p in signature.parameters.items():\n",
                "        print(p)\n",
                "        args[n + \"_ptr\"] = ([d.size for d in p.annotation.dims], p)\n",
                "    args[\"z_ptr\"] = ([d.size for d in signature.return_annotation.dims], None)\n",
                "\n",
                "    tt_args = []\n",
                "    for k, (v, t) in args.items():\n",
                "        tt_args.append(torch.rand(*v, device='cuda') - 0.5)\n",
                "        if t is not None and t.annotation.dtypes[0] == \"int32\":\n",
                "            tt_args[-1] = torch.randint(-100000, 100000, v)\n",
                "    grid = lambda meta: (triton.cdiv(nelem[\"N0\"], meta[\"B0\"]),\n",
                "                         triton.cdiv(nelem.get(\"N1\", 1), meta.get(\"B1\", 1)),\n",
                "                         triton.cdiv(nelem.get(\"N2\", 1), meta.get(\"B2\", 1)))\n",
                "\n",
                "    #for k, v in args.items():\n",
                "    #    print(k, v)\n",
                "    if viz:\n",
                "        triton_viz.trace(puzzle)[grid](*tt_args, **B, **nelem)\n",
                "    puzzle[grid](*tt_args, **B, **nelem)\n",
                "    \n",
                "    z = tt_args[-1]\n",
                "    tt_args = tt_args[:-1]\n",
                "    z_ = puzzle_spec(*tt_args)\n",
                "    match = torch.allclose(z.cpu(), z_.cpu(), rtol=1e-3, atol=1e-3)\n",
                "    # match = torch.allclose(z, z_, rtol=1e-3, atol=1e-3)\n",
                "    print(\"Results match:\",  match)\n",
                "    failures = False\n",
                "    if viz:\n",
                "        failures = triton_viz.launch()\n",
                "    if not match or failures:\n",
                "        print(\"Invalid Access:\", failures)\n",
                "        print(\"Yours:\", z)\n",
                "        print(\"Spec:\", z_)\n",
                "        print(torch.isclose(z, z_))\n",
                "        return\n",
                "    print(\"Correct!\")"
            ]
        },
        {
            "cell_type": "markdown",
            "id": "f617b944-cf73-4bad-b7d6-1cc6d17879a9",
            "metadata": {
                "id": "f617b944-cf73-4bad-b7d6-1cc6d17879a9"
            },
            "source": [
                "# Puzzle 1: Constant Add <!--AsggNXj3NEmSGzbCXV2bap-->\n",
                "\n",
                "Add a constant to a vector. Uses one program id axis. Block size `B0` is always the same as vector `x` with length `N0`.\n",
                "\n",
                "$$z_i = 10 + x_i \\text{ for } i = 1\\ldots N_0$$\n",
                "\n",
                "![](imgs/puzzle_1.png)\n",
                "\n",
                "```python\n",
                "def add_spec(x: Float32[Tensor, \"32\"]) -> Float32[Tensor, \"32\"]:\n",
                "    \"This is the spec that you should implement. Uses typing to define sizes.\"\n",
                "    return x + 10.\n",
                "\n",
                "@triton.jit\n",
                "def add_kernel(x_ptr, z_ptr, N0, B0: tl.constexpr):\n",
                "    range = tl.arange(0, B0)\n",
                "    x = tl.load(x_ptr + range)\n",
                "    # Finish me!\n",
                "\n",
                "test(add_kernel, add_spec, nelem={\"N0\": 32}, viz=True)\n",
                "```\n",
                "\n",
                "---"
            ]
        },
        {
            "cell_type": "code",
            "execution_count": 2,
            "id": "04dee1d3-d913-4422-b23f-f6d3c7917639",
            "metadata": {
                "id": "3d5fdae5-156e-48e6-abb3-9abe9d258229"
            },
            "outputs": [
                {
                    "name": "stdout",
                    "output_type": "stream",
                    "text": [
                        "x: jaxtyping.Float32[Tensor, '32']\n",
                        "Results match: True\n",
                        "Correct!\n"
                    ]
                }
            ],
            "source": [
                "def add_spec(x: Float32[Tensor, \"32\"]) -> Float32[Tensor, \"32\"]:\n",
                "    \"This is the spec that you should implement. Uses typing to define sizes.\"\n",
                "    return x + 10.\n",
                "\n",
                "@triton.jit\n",
                "def add_kernel(x_ptr, z_ptr, N0, B0: tl.constexpr):\n",
                "    offsets = tl.arange(0, B0)\n",
                "    x = tl.load(x_ptr + offsets)\n",
                "    z = x + 10\n",
                "    tl.store(z_ptr + offsets, z)\n",
                "\n",
                "test(add_kernel, add_spec, nelem={\"N0\": 32}, viz=False)"
            ]
        },
        {
            "cell_type": "markdown",
            "id": "863aa741-98ba-4370-970a-7378a075fadb",
            "metadata": {
                "id": "863aa741-98ba-4370-970a-7378a075fadb"
            },
            "source": [
                "# Puzzle 2: Constant Add Block <!--JFib3RZKFFm3dYHcJ5tJUE-->\n",
                "\n",
                "Add a constant to a vector. Uses one program block axis (no `for` loops yet). Block size `B0` is now smaller than the shape vector `x` which is `N0`.\n",
                "\n",
                "\n",
                "$$z_i = 10 + x_i \\text{ for } i = 1\\ldots N_0$$\n",
                "\n",
                "![](imgs/puzzle_2.png)\n",
                "\n",
                "```python\n",
                "def add2_spec(x: Float32[Tensor, \"200\"]) -> Float32[Tensor, \"200\"]:\n",
                "    return x + 10.\n",
                "\n",
                "@triton.jit\n",
                "def add_mask2_kernel(x_ptr, z_ptr, N0, B0: tl.constexpr):\n",
                "    return\n",
                "\n",
                "test(add_mask2_kernel, add2_spec, nelem={\"N0\": 200})\n",
                "```\n",
                "\n",
                "---"
            ]
        },
        {
            "cell_type": "code",
            "execution_count": 3,
            "id": "1701dd55-33a5-4277-89f6-2e3e9e1cf75a",
            "metadata": {},
            "outputs": [
                {
                    "name": "stdout",
                    "output_type": "stream",
                    "text": [
                        "x: jaxtyping.Float32[Tensor, '200']\n",
                        "Results match: True\n",
                        "Correct!\n"
                    ]
                }
            ],
            "source": [
                "def add2_spec(x: Float32[Tensor, \"200\"]) -> Float32[Tensor, \"200\"]:\n",
                "    return x + 10.\n",
                "\n",
                "@triton.jit\n",
                "def add_mask2_kernel(x_ptr, z_ptr, N0, B0: tl.constexpr):\n",
                "    # blockIdx.x*blockDim.x + threadIdx.x\n",
                "    offsets = tl.program_id(0)*B0 + tl.arange(0, B0)\n",
                "    \n",
                "    x = tl.load(x_ptr + offsets, offsets < N0)\n",
                "    z = x + 10\n",
                "    tl.store(z_ptr + offsets, z, offsets < N0)\n",
                "    \n",
                "test(add_mask2_kernel, add2_spec, nelem={\"N0\": 200})"
            ]
        },
        {
            "cell_type": "markdown",
            "id": "639dbf91-18b1-4bc6-8624-609b1031e9e1",
            "metadata": {
                "id": "639dbf91-18b1-4bc6-8624-609b1031e9e1"
            },
            "source": [
                "# Puzzle 3: Outer Vector Add <!--TzTDApXBx24cvFx2Bn9nfE-->\n",
                "\n",
                "Add two vectors.\n",
                "\n",
                "Uses one program block axis. Block size `B0` is always the same as vector `x` length `N0`.\n",
                "Block size `B1` is always the same as vector `y` length `N1`.\n",
                "\n",
                "\n",
                "$$z_{j, i} = x_i + y_j\\text{ for } i = 1\\ldots B_0,\\ j = 1\\ldots B_1$$\n",
                "\n",
                "![](imgs/puzzle_3.png)\n",
                "\n",
                "\n",
                "```python\n",
                "def add_vec_spec(x: Float32[Tensor, \"32\"], y: Float32[Tensor, \"32\"]) -> Float32[Tensor, \"32 32\"]:\n",
                "    return x[None, :] + y[:, None]\n",
                "\n",
                "@triton.jit\n",
                "def add_vec_kernel(x_ptr, y_ptr, z_ptr, N0, N1, B0: tl.constexpr, B1: tl.constexpr):\n",
                "    return\n",
                "\n",
                "test(add_vec_kernel, add_vec_spec, nelem={\"N0\": 32, \"N1\": 32})\n",
                "```\n",
                "\n",
                "---"
            ]
        },
        {
            "cell_type": "markdown",
            "id": "b159c471-98e7-4bd4-a416-e15b6fd50942",
            "metadata": {},
            "source": [
                "- x: (1, N0)\n",
                "- y: (N1, 1)\n",
                "- Output: (N1, N0)"
            ]
        },
        {
            "cell_type": "code",
            "execution_count": 4,
            "id": "8c73fcf9-50eb-494d-8f4e-430d85358cbc",
            "metadata": {
                "id": "5a977409-3fcb-4b72-abee-f09d02bf6f70"
            },
            "outputs": [
                {
                    "name": "stdout",
                    "output_type": "stream",
                    "text": [
                        "x: jaxtyping.Float32[Tensor, '32']\n",
                        "y: jaxtyping.Float32[Tensor, '32']\n",
                        "Results match: True\n",
                        "Correct!\n"
                    ]
                }
            ],
            "source": [
                "def add_vec_spec(x: Float32[Tensor, \"32\"], y: Float32[Tensor, \"32\"]) -> Float32[Tensor, \"32 32\"]:\n",
                "    return x[None, :] + y[:, None]\n",
                "\n",
                "@triton.jit\n",
                "def add_vec_kernel(x_ptr, y_ptr, z_ptr, N0, N1, B0: tl.constexpr, B1: tl.constexpr):\n",
                "    x = tl.load(x_ptr + tl.arange(0, B0))\n",
                "    y = tl.load(y_ptr + tl.arange(0, B1))\n",
                "    \n",
                "    z = x[None, :] + y[:, None]\n",
                "    \n",
                "    tl.store(z_ptr + tl.arange(0, B0*B1), tl.reshape(z, (B0*B1)))\n",
                "\n",
                "test(add_vec_kernel, add_vec_spec, nelem={\"N0\": 32, \"N1\": 32})"
            ]
        },
        {
            "cell_type": "markdown",
            "id": "1ea0bd06-58f5-4088-af2a-f3c0d80f5e15",
            "metadata": {
                "id": "1ea0bd06-58f5-4088-af2a-f3c0d80f5e15"
            },
            "source": [
                "# Puzzle 4: Outer Vector Add Block <!--M56mubwfEtQKkBpgBLM3pU-->\n",
                "\n",
                "Add a row vector to a column vector.\n",
                "\n",
                "Uses two program block axes. Block size `B0` is always less than the vector `x` length `N0`.\n",
                "Block size `B1` is always less than vector `y` length `N1`.\n",
                "\n",
                "$$z_{j, i} = x_i + y_j\\text{ for } i = 1\\ldots N_0,\\ j = 1\\ldots N_1$$\n",
                "\n",
                "![](imgs/puzzle_4.png)\n",
                "\n",
                "```python\n",
                "def add_vec_block_spec(x: Float32[Tensor, \"100\"], y: Float32[Tensor, \"90\"]) -> Float32[Tensor, \"90 100\"]:\n",
                "    return x[None, :] + y[:, None]\n",
                "\n",
                "@triton.jit\n",
                "def add_vec_block_kernel(x_ptr, y_ptr, z_ptr, N0, N1, B0: tl.constexpr, B1: tl.constexpr):\n",
                "...\n",
                "\n",
                "test(add_vec_block_kernel, add_vec_block_spec, nelem={\"N0\": 100, \"N1\": 90})\n",
                "```\n",
                "\n",
                "---"
            ]
        },
        {
            "cell_type": "code",
            "execution_count": 5,
            "id": "81f705cc-5fe5-41b6-90ad-b0fc16e7fd5f",
            "metadata": {},
            "outputs": [
                {
                    "name": "stdout",
                    "output_type": "stream",
                    "text": [
                        "x: jaxtyping.Float32[Tensor, '100']\n",
                        "y: jaxtyping.Float32[Tensor, '90']\n",
                        "Results match: True\n",
                        "Correct!\n"
                    ]
                }
            ],
            "source": [
                "def add_vec_block_spec(x: Float32[Tensor, \"100\"], y: Float32[Tensor, \"90\"]) -> Float32[Tensor, \"90 100\"]:\n",
                "    return x[None, :] + y[:, None]\n",
                "\n",
                "@triton.jit\n",
                "def add_vec_block_kernel(x_ptr, y_ptr, z_ptr, N0, N1, B0: tl.constexpr, B1: tl.constexpr):\n",
                "    x_offsets = tl.program_id(0)*B0 + tl.arange(0, B0)\n",
                "    y_offsets = tl.program_id(1)*B1 + tl.arange(0, B1)\n",
                "\n",
                "    x = tl.load(x_ptr + x_offsets, mask=x_offsets < N0)\n",
                "    y = tl.load(y_ptr + y_offsets, mask=y_offsets < N1)\n",
                "    z = x[None, :] + y[:, None]\n",
                "\n",
                "    z_offsets = x_offsets[None, :] + y_offsets[:, None]*N0\n",
                "    z_mask = (x_offsets[None, :] < N0) & (y_offsets[:, None] < N1)\n",
                "    tl.store(z_ptr + z_offsets, z, mask=z_mask)\n",
                "\n",
                "test(add_vec_block_kernel, add_vec_block_spec, nelem={\"N0\": 100, \"N1\": 90})"
            ]
        },
        {
            "cell_type": "markdown",
            "id": "c42d906e-4463-498d-9cde-283f055d4f31",
            "metadata": {},
            "source": [
                "## Visualizations on Mask and Block Coords"
            ]
        },
        {
            "cell_type": "code",
            "execution_count": 6,
            "id": "c71169ed-5888-40f5-976a-5d56aa846f7a",
            "metadata": {},
            "outputs": [],
            "source": [
                "import numpy as tl"
            ]
        },
        {
            "cell_type": "code",
            "execution_count": 7,
            "id": "6a97d3c5-5383-4f50-89de-24524e14e710",
            "metadata": {},
            "outputs": [],
            "source": [
                "N0 = 8\n",
                "N1 = 6\n",
                "B0 = 4\n",
                "B1 = 3\n",
                "pid_0 = 0\n",
                "pid_1 = 0"
            ]
        },
        {
            "cell_type": "code",
            "execution_count": 8,
            "id": "06c922bc-1644-4702-88d6-16cf2169a0fe",
            "metadata": {},
            "outputs": [
                {
                    "data": {
                        "text/plain": [
                            "array([[0, 1, 2, 3],\n",
                            "       [1, 2, 3, 4],\n",
                            "       [2, 3, 4, 5]])"
                        ]
                    },
                    "execution_count": 8,
                    "metadata": {},
                    "output_type": "execute_result"
                }
            ],
            "source": [
                "# Mask at pid_0 = 0, pid_1 = 0\n",
                "(tl.arange(0, B0)[None, :] + pid_0*B0) + (tl.arange(0, B1)[:, None] + pid_1*B1)"
            ]
        },
        {
            "cell_type": "code",
            "execution_count": 9,
            "id": "60e691e8-8540-487a-9a07-2886bdb687a4",
            "metadata": {},
            "outputs": [
                {
                    "data": {
                        "text/plain": [
                            "array([[ 0,  1,  2,  3],\n",
                            "       [ 8,  9, 10, 11],\n",
                            "       [16, 17, 18, 19]])"
                        ]
                    },
                    "execution_count": 9,
                    "metadata": {},
                    "output_type": "execute_result"
                }
            ],
            "source": [
                "# block_coords at pid_0 = 0, pid_1 = 0\n",
                "(tl.arange(0, B0)[None, :] + pid_0*B0) + (tl.arange(0, B1)[:, None]*N0 + pid_1*B1*N0)"
            ]
        },
        {
            "cell_type": "code",
            "execution_count": 10,
            "id": "1550772a-a182-4888-a62a-c22ece39b780",
            "metadata": {},
            "outputs": [],
            "source": [
                "N0 = 8\n",
                "N1 = 6\n",
                "B0 = 4\n",
                "B1 = 3\n",
                "pid_0 = 1\n",
                "pid_1 = 1"
            ]
        },
        {
            "cell_type": "markdown",
            "id": "3e1ac685-bec9-49f5-a187-b673cea4562c",
            "metadata": {},
            "source": [
                "### Mask"
            ]
        },
        {
            "cell_type": "markdown",
            "id": "8bbeb67d-fed5-4d8a-8406-1874773f00c0",
            "metadata": {},
            "source": [
                "#### Row"
            ]
        },
        {
            "cell_type": "code",
            "execution_count": 11,
            "id": "54cf2353-b95d-4a4f-86e4-2307b6331b12",
            "metadata": {},
            "outputs": [
                {
                    "data": {
                        "text/plain": [
                            "array([[4, 5, 6, 7]])"
                        ]
                    },
                    "execution_count": 11,
                    "metadata": {},
                    "output_type": "execute_result"
                }
            ],
            "source": [
                "tl.arange(0, B0)[None, :] + pid_0*B0"
            ]
        },
        {
            "cell_type": "markdown",
            "id": "ec614d9b-aff0-49da-8646-87e59c8e2979",
            "metadata": {},
            "source": [
                "#### Column"
            ]
        },
        {
            "cell_type": "code",
            "execution_count": 12,
            "id": "e6631692-1214-4c4e-8b5d-9d25a5f61f3f",
            "metadata": {},
            "outputs": [
                {
                    "data": {
                        "text/plain": [
                            "array([[3],\n",
                            "       [4],\n",
                            "       [5]])"
                        ]
                    },
                    "execution_count": 12,
                    "metadata": {},
                    "output_type": "execute_result"
                }
            ],
            "source": [
                "tl.arange(0, B1)[:, None] + pid_1*B1"
            ]
        },
        {
            "cell_type": "markdown",
            "id": "5bf6e7aa-1081-4fbe-b231-804a2d215455",
            "metadata": {},
            "source": [
                "#### Mask"
            ]
        },
        {
            "cell_type": "code",
            "execution_count": 13,
            "id": "cab17096-d185-4476-996b-a2b74484b1d5",
            "metadata": {},
            "outputs": [
                {
                    "data": {
                        "text/plain": [
                            "array([[ 7,  8,  9, 10],\n",
                            "       [ 8,  9, 10, 11],\n",
                            "       [ 9, 10, 11, 12]])"
                        ]
                    },
                    "execution_count": 13,
                    "metadata": {},
                    "output_type": "execute_result"
                }
            ],
            "source": [
                "(tl.arange(0, B0)[None, :] + pid_0*B0) + (tl.arange(0, B1)[:, None] + pid_1*B1)"
            ]
        },
        {
            "cell_type": "markdown",
            "id": "b13d6765-28f8-47fc-bdbc-ac66c843200c",
            "metadata": {},
            "source": [
                "### Block Coords"
            ]
        },
        {
            "cell_type": "markdown",
            "id": "58e97d9d-7193-4d70-b8bf-f86fea465603",
            "metadata": {},
            "source": [
                "#### Row"
            ]
        },
        {
            "cell_type": "code",
            "execution_count": 14,
            "id": "2b50b4c1-d202-4276-9bd2-c3a040b45c6e",
            "metadata": {},
            "outputs": [
                {
                    "data": {
                        "text/plain": [
                            "array([[4, 5, 6, 7]])"
                        ]
                    },
                    "execution_count": 14,
                    "metadata": {},
                    "output_type": "execute_result"
                }
            ],
            "source": [
                "(tl.arange(0, B0)[None, :] + pid_0*B0)"
            ]
        },
        {
            "cell_type": "markdown",
            "id": "e3c70819-6621-4c95-aba3-dd7865e47672",
            "metadata": {},
            "source": [
                "#### Column"
            ]
        },
        {
            "cell_type": "code",
            "execution_count": 15,
            "id": "2806e32d-84df-4290-b255-ac7f7a58a1f7",
            "metadata": {},
            "outputs": [
                {
                    "data": {
                        "text/plain": [
                            "array([[0],\n",
                            "       [1],\n",
                            "       [2]])"
                        ]
                    },
                    "execution_count": 15,
                    "metadata": {},
                    "output_type": "execute_result"
                }
            ],
            "source": [
                "(tl.arange(0, B1)[:, None])"
            ]
        },
        {
            "cell_type": "code",
            "execution_count": 16,
            "id": "a008b3a3-e5ec-4d6f-8493-b31f3b253876",
            "metadata": {},
            "outputs": [
                {
                    "data": {
                        "text/plain": [
                            "array([[3],\n",
                            "       [4],\n",
                            "       [5]])"
                        ]
                    },
                    "execution_count": 16,
                    "metadata": {},
                    "output_type": "execute_result"
                }
            ],
            "source": [
                "(tl.arange(0, B1)[:, None] + pid_1*B1)"
            ]
        },
        {
            "cell_type": "code",
            "execution_count": 17,
            "id": "4561c027-038a-4e14-a799-ef5791e0b34e",
            "metadata": {},
            "outputs": [
                {
                    "data": {
                        "text/plain": [
                            "array([[24],\n",
                            "       [32],\n",
                            "       [40]])"
                        ]
                    },
                    "execution_count": 17,
                    "metadata": {},
                    "output_type": "execute_result"
                }
            ],
            "source": [
                "(tl.arange(0, B1)[:, None] + pid_1*B1)*N0"
            ]
        },
        {
            "cell_type": "code",
            "execution_count": 18,
            "id": "a174f0e1-3e29-43a4-9ab4-3d53ad46d047",
            "metadata": {},
            "outputs": [
                {
                    "data": {
                        "text/plain": [
                            "array([[28, 29, 30, 31],\n",
                            "       [36, 37, 38, 39],\n",
                            "       [44, 45, 46, 47]])"
                        ]
                    },
                    "execution_count": 18,
                    "metadata": {},
                    "output_type": "execute_result"
                }
            ],
            "source": [
                "(tl.arange(0, B0)[None, :] + pid_0*B0) + (tl.arange(0, B1)[:, None]*N0 + pid_1*B1*N0)"
            ]
        },
        {
            "cell_type": "code",
            "execution_count": 19,
            "id": "e219382a-e401-403f-9850-695b58e661f5",
            "metadata": {},
            "outputs": [],
            "source": [
                "import triton.language as tl"
            ]
        },
        {
            "cell_type": "markdown",
            "id": "025a1cfa-6b4e-4456-acc4-d15aa35ec605",
            "metadata": {
                "id": "025a1cfa-6b4e-4456-acc4-d15aa35ec605"
            },
            "source": [
                "# Puzzle 5: Fused Outer Multiplication <!--PwtpiDpJW8W8TKXVCjMy26-->\n",
                "\n",
                "Multiply a row vector to a column vector and take a relu.\n",
                "\n",
                "Uses two program block axes. Block size `B0` is always less than the vector `x` length `N0`.\n",
                "Block size `B1` is always less than vector `y` length `N1`.\n",
                "\n",
                "$$z_{j, i} = \\text{relu}(x_i \\times y_j)\\text{ for } i = 1\\ldots N_0,\\ j = 1\\ldots N_1$$\n",
                "\n",
                "![](imgs/puzzle_5.png)\n",
                "\n",
                "```python\n",
                "def mul_relu_block_spec(x: Float32[Tensor, \"100\"], y: Float32[Tensor, \"90\"]) -> Float32[Tensor, \"90 100\"]:\n",
                "    return torch.relu(x[None, :] * y[:, None])\n",
                "\n",
                "@triton.jit\n",
                "def mul_relu_block_kernel(x_ptr, y_ptr, z_ptr, N0, N1, B0: tl.constexpr, B1: tl.constexpr):\n",
                "    ...\n",
                "    \n",
                "test(mul_relu_block_kernel, mul_relu_block_spec, nelem={\"N0\": 100, \"N1\": 90})\n",
                "```\n",
                "\n",
                "---"
            ]
        },
        {
            "cell_type": "code",
            "execution_count": 20,
            "id": "b6607a59-b8eb-4802-b858-d20a2f6274ea",
            "metadata": {},
            "outputs": [
                {
                    "name": "stdout",
                    "output_type": "stream",
                    "text": [
                        "x: jaxtyping.Float32[Tensor, '100']\n",
                        "y: jaxtyping.Float32[Tensor, '90']\n",
                        "Results match: True\n",
                        "Correct!\n"
                    ]
                }
            ],
            "source": [
                "def mul_relu_block_spec(x: Float32[Tensor, \"100\"], y: Float32[Tensor, \"90\"]) -> Float32[Tensor, \"90 100\"]:\n",
                "    return torch.relu(x[None, :] * y[:, None])\n",
                "\n",
                "@triton.jit\n",
                "def mul_relu_block_kernel(x_ptr, y_ptr, z_ptr, N0, N1, B0: tl.constexpr, B1: tl.constexpr):\n",
                "    x_offsets = tl.program_id(0)*B0 + tl.arange(0, B0)\n",
                "    y_offsets = tl.program_id(1)*B1 + tl.arange(0, B1)\n",
                "\n",
                "    x = tl.load(x_ptr + x_offsets, mask=x_offsets < N0, other=0.0)\n",
                "    y = tl.load(y_ptr + y_offsets, mask=y_offsets < N1, other=0.0)\n",
                "    z = tl.maximum(x[None, :] * y[:, None], 0) # tl.maximum(x[None, :] * y[:, None], tl.zeros((B1, B0), tl.float32))\n",
                "    \n",
                "    output_offsets = x_offsets[None, :] + y_offsets[:, None]*N0\n",
                "    output_mask = (x_offsets[None, :] < N0) & (y_offsets[:, None] < N1)\n",
                "    tl.store(z_ptr + output_offsets, z, mask=output_mask)\n",
                "    \n",
                "test(mul_relu_block_kernel, mul_relu_block_spec, nelem={\"N0\": 100, \"N1\": 90})"
            ]
        },
        {
            "cell_type": "markdown",
            "id": "9e1677c8-a1e8-476c-bf04-8a6ba912c84d",
            "metadata": {
                "id": "9e1677c8-a1e8-476c-bf04-8a6ba912c84d"
            },
            "source": [
                "# Puzzle 6: Fused Outer Multiplication - Backwards <!--J4yTike65Ye6RNECTp4iyo-->\n",
                "\n",
                "\n",
                "Backwards of a function that multiplies a matrix with a row vector and take a relu.\n",
                "\n",
                "Uses two program blocks. Block size `B0` is always less than the vector `x` length `N0`.\n",
                "Block size `B1` is always less than vector `y` length `N1`. Chain rule backward `dz`\n",
                "is of shape `N1` by `N0`\n",
                "\n",
                "$$f(x, y) = \\text{relu}(x_{i, j} \\times y_j)\\text{ for } i = 1\\ldots N_1,\\ j = 1\\ldots N_0$$\n",
                "\n",
                "$$dx_{i, j} = f_x'(x, y)_{i, j} \\times dz_{i,j}$$\n",
                "\n",
                "![](imgs/puzzle_6.png)\n",
                "\n",
                "\n",
                "```python\n",
                "def mul_relu_block_back_spec(x: Float32[Tensor, \"90 100\"], y: Float32[Tensor, \"90\"],\n",
                "                             dz: Float32[Tensor, \"90 100\"]) -> Float32[Tensor, \"90 100\"]:\n",
                "    x = x.clone()\n",
                "    y = y.clone()\n",
                "    x = x.requires_grad_(True)\n",
                "    y = y.requires_grad_(True)\n",
                "    z = torch.relu(x * y[:, None])\n",
                "    z.backward(dz)\n",
                "    dx = x.grad\n",
                "    return dx\n",
                "\n",
                "@triton.jit\n",
                "def mul_relu_block_back_kernel(x_ptr, y_ptr, dz_ptr, dx_ptr, N0, N1, B0: tl.constexpr, B1: tl.constexpr):\n",
                "    ...\n",
                "\n",
                "test(mul_relu_block_back_kernel, mul_relu_block_back_spec, nelem={\"N0\": 100, \"N1\": 90})\n",
                "```\n",
                "\n",
                "---"
            ]
        },
        {
            "cell_type": "markdown",
            "id": "bae15244-5d0f-4b8f-a3f8-eed1181df271",
            "metadata": {},
            "source": [
                "ReLU:\n",
                "$$\n",
                "\\text{relu}(a) = \n",
                "\\begin{cases} \n",
                "a & \\text{if } a > 0 \\\\\n",
                "0 & \\text{if } a \\leq 0\n",
                "\\end{cases}\n",
                "$$\n",
                "\n",
                "$$\n",
                "\\text{relu}'(a) = \n",
                "\\begin{cases} \n",
                "1 & \\text{if } a > 0 \\\\\n",
                "0 & \\text{if } a \\leq 0\n",
                "\\end{cases}\n",
                "$$\n",
                "\n",
                "Problem statement:\n",
                "$$f(x, y) = \\text{relu}(x_i \\times y_j)\\text{ for } i = 1\\ldots N_0,\\ j = 1\\ldots N_1$$\n",
                "\n",
                "$$dx_{i, j} = f_x'(x, y)_{i, j} \\times dz_{i,j}$$\n",
                "\n",
                "Gradient:\n",
                "\n",
                "$$\n",
                "f_x'(x, y)_{ij} = \n",
                "\\begin{cases} \n",
                "y_j & \\text{if } x_i \\cdot y_j > 0 \\\\\n",
                "0 & \\text{if } x_i \\cdot y_j \\leq 0\n",
                "\\end{cases}\n",
                "$$\n",
                "\n",
                "$$\n",
                "dx_{ij} = \\begin{cases} \n",
                "y_j \\times dz_{ij} & \\text{if } x_i \\cdot y_j > 0 \\\\\n",
                "0 & \\text{if } x_i \\cdot y_j \\leq 0\n",
                "\\end{cases}\n",
                "$$"
            ]
        },
        {
            "cell_type": "code",
            "execution_count": 21,
            "id": "42dd2d53-9192-49c8-8360-ae126f167785",
            "metadata": {},
            "outputs": [
                {
                    "name": "stdout",
                    "output_type": "stream",
                    "text": [
                        "x: jaxtyping.Float32[Tensor, '90 100']\n",
                        "y: jaxtyping.Float32[Tensor, '90']\n",
                        "dz: jaxtyping.Float32[Tensor, '90 100']\n",
                        "Results match: True\n",
                        "Correct!\n"
                    ]
                },
                {
                    "name": "stdout",
                    "output_type": "stream",
                    "text": [
                        "Results match: True\n",
                        "Correct!\n"
                    ]
                }
            ],
            "source": [
                "def mul_relu_block_back_spec(x: Float32[Tensor, \"90 100\"], y: Float32[Tensor, \"90\"],\n",
                "                             dz: Float32[Tensor, \"90 100\"]) -> Float32[Tensor, \"90 100\"]:\n",
                "    x = x.clone()\n",
                "    y = y.clone()\n",
                "    x = x.requires_grad_(True)\n",
                "    y = y.requires_grad_(True)\n",
                "    z = torch.relu(x * y[:, None])\n",
                "    z.backward(dz)\n",
                "    dx = x.grad\n",
                "    return dx\n",
                "\n",
                "@triton.jit\n",
                "def mul_relu_block_back_kernel(x_ptr, y_ptr, dz_ptr, dx_ptr, N0, N1, B0: tl.constexpr, B1: tl.constexpr):\n",
                "    row_offsets = tl.program_id(0)*B0 + tl.arange(0, B0)\n",
                "    col_offsets = tl.program_id(1)*B1 + tl.arange(0, B1)\n",
                "    y = tl.load(y_ptr + col_offsets, mask=col_offsets<N1)\n",
                "\n",
                "    block_coords = row_offsets[None, :] + col_offsets[:, None]*N0\n",
                "    block_mask = (row_offsets[None, :] < N0) & (col_offsets[:, None] < N1)\n",
                "    x = tl.load(x_ptr + block_coords, mask=block_mask)\n",
                "    dz = tl.load(dz_ptr + block_coords, mask=block_mask)\n",
                "\n",
                "    product = tl.maximum(x * y[:, None], 0) # (B1, B0)\n",
                "    relu_positive_mask = tl.where(product > 0, 1, 0)\n",
                "    dx = relu_positive_mask * y[:, None] * dz\n",
                "\n",
                "    tl.store(dx_ptr + block_coords, dx, mask=block_mask)\n",
                "    \n",
                "test(mul_relu_block_back_kernel, mul_relu_block_back_spec, nelem={\"N0\": 100, \"N1\": 90})"
            ]
        },
        {
            "cell_type": "markdown",
            "id": "GQjO0gHj_5Sr",
            "metadata": {
                "id": "GQjO0gHj_5Sr"
            },
            "source": [
                "# Puzzle 7: Long Sum <!--QRQ6brZTz2LGubRxxsCzoP-->\n",
                "\n",
                "Sum of a batch of numbers.\n",
                "\n",
                "Uses one program blocks. Block size `B0` represents a range of batches of  `x` of length `N0`.\n",
                "Each element is of length `T`. Process it `B1 < T` elements at a time.  \n",
                "\n",
                "$$z_{i} = \\sum^{T}_j x_{i,j} =  \\text{ for } i = 1\\ldots N_0$$\n",
                "\n",
                "Hint: You will need a for loop for this problem. These work and look the same as in Python.\n",
                "\n",
                "![](imgs/puzzle_7.png)\n",
                "\n",
                "```python\n",
                "def sum_spec(x: Float32[Tensor, \"4 200\"]) -> Float32[Tensor, \"4\"]:\n",
                "    return x.sum(1)\n",
                "\n",
                "@triton.jit\n",
                "def sum_kernel(x_ptr, z_ptr, N0, N1, T, B0: tl.constexpr, B1: tl.constexpr):\n",
                "    return\n",
                "\n",
                "test(sum_kernel, sum_spec, B={\"B0\": 1, \"B1\": 32}, nelem={\"N0\": 4, \"N1\": 32, \"T\": 200})\n",
                "```\n",
                "\n",
                "---"
            ]
        },
        {
            "cell_type": "markdown",
            "id": "0def479f-1703-45e3-af02-b09582223ef3",
            "metadata": {},
            "source": [
                "- Is this row-wise or column-wise?\n",
                "    - Summing along row, row-wise\n",
                "- Which dim are we squashing? \n",
                "    - dim=-1, dim=1 (last dim)"
            ]
        },
        {
            "cell_type": "code",
            "execution_count": 22,
            "id": "4782946a-b84c-447f-9223-06beed234f77",
            "metadata": {},
            "outputs": [
                {
                    "name": "stdout",
                    "output_type": "stream",
                    "text": [
                        "x: jaxtyping.Float32[Tensor, '4 200']\n",
                        "Results match: True\n",
                        "Correct!\n"
                    ]
                }
            ],
            "source": [
                "def sum_spec(x: Float32[Tensor, \"4 200\"]) -> Float32[Tensor, \"4\"]:\n",
                "    return x.sum(1)\n",
                "\n",
                "@triton.jit\n",
                "def sum_kernel(x_ptr, z_ptr, N0, N1, T, B0: tl.constexpr, B1: tl.constexpr):\n",
                "    col_offsets = tl.program_id(0)*B0 + tl.arange(0, B0)\n",
                "\n",
                "    sum_vec = tl.zeros((B0,), tl.float32)\n",
                "    for j in range(0, T, B1):\n",
                "        row_offsets = tl.arange(0, B1) + j\n",
                "\n",
                "        block_coords = row_offsets[None, :] + col_offsets[:, None]*T\n",
                "        block_mask = (row_offsets[None, :] < T) & (col_offsets[:, None] < N0)\n",
                "        \n",
                "        x = tl.load(x_ptr + block_coords, mask=block_mask)\n",
                "        sum_vec = sum_vec + tl.sum(x, axis=1)\n",
                "\n",
                "    tl.store(z_ptr + col_offsets, sum_vec, mask=col_offsets<N0)\n",
                "\n",
                "test(sum_kernel, sum_spec, B={\"B0\": 1, \"B1\": 32}, nelem={\"N0\": 4, \"N1\": 32, \"T\": 200})"
            ]
        },
        {
            "cell_type": "markdown",
            "id": "86402b17-9fa4-489b-8c79-71d4ecb68ff2",
            "metadata": {
                "id": "86402b17-9fa4-489b-8c79-71d4ecb68ff2"
            },
            "source": [
                "# Puzzle 8: Long Softmax <!--7Tp448stbYTXdU2MQrd4N2-->\n",
                "\n",
                "Softmax of a batch of logits.\n",
                "\n",
                "Uses one program block axis. Block size `B0` represents the batch of `x` of length `N0`.\n",
                "Block logit length `T`.   Process it `B1 < T` elements at a time.  \n",
                "\n",
                "$$z_{i, j} = \\text{softmax}(x_{i,1} \\ldots x_{i, T}) \\text{ for } i = 1\\ldots N_0$$\n",
                "\n",
                "Note softmax needs to be computed in numerically stable form as in Python. In addition in Triton they recommend not using `exp` but instead using `exp2`. You need the identity\n",
                "\n",
                "$$\\exp(x) = 2^{\\log_2(e) x}$$\n",
                "\n",
                "Advanced: there one way to do this with 3 loops. You can also do it with 2 loops if you are clever. Hint: you will find this identity useful:\n",
                "\n",
                "$$\\exp(x_i - m) =  \\exp(x_i - m/2 - m/2) = \\exp(x_i - m/ 2) /  \\exp(m/2)$$\n",
                "\n",
                "![](imgs/puzzle_8.png)\n",
                "\n",
                "```python\n",
                "def softmax_spec(x: Float32[Tensor, \"4 200\"]) -> Float32[Tensor, \"4 200\"]:\n",
                "    x_max = x.max(1, keepdim=True)[0]\n",
                "    x = x - x_max\n",
                "    x_exp = x.exp()\n",
                "    return x_exp / x_exp.sum(1, keepdim=True)\n",
                "\n",
                "@triton.jit\n",
                "def softmax_kernel(x_ptr, z_ptr, N0, N1, T, B0: tl.constexpr, B1: tl.constexpr):\n",
                "    pid_0 = tl.program_id(0)\n",
                "    log2_e = 1.44269504\n",
                "    return\n",
                "\n",
                "test(softmax_kernel, softmax_spec, B={\"B0\": 1, \"B1\":32}, nelem={\"N0\": 4, \"N1\": 32, \"T\": 200})\n",
                "```\n",
                "\n",
                "---"
            ]
        },
        {
            "cell_type": "code",
            "execution_count": 23,
            "id": "62c09a59-e0e6-458f-8b77-10466c772ef6",
            "metadata": {},
            "outputs": [
                {
                    "name": "stdout",
                    "output_type": "stream",
                    "text": [
                        "x: jaxtyping.Float32[Tensor, '4 200']\n",
                        "Results match: True\n",
                        "Correct!\n"
                    ]
                }
            ],
            "source": [
                "def softmax_spec(x: Float32[Tensor, \"4 200\"]) -> Float32[Tensor, \"4 200\"]:\n",
                "    x_max = x.max(1, keepdim=True)[0]\n",
                "    x = x - x_max\n",
                "    x_exp = x.exp()\n",
                "    return x_exp / x_exp.sum(1, keepdim=True)\n",
                "\n",
                "@triton.jit\n",
                "def softmax_kernel(x_ptr, z_ptr, N0, N1, T, B0: tl.constexpr, B1: tl.constexpr):\n",
                "    row_offsets = tl.program_id(0)*B0 + tl.arange(0, B0)\n",
                "\n",
                "    exp_sum = tl.zeros((B0, 1), tl.float32)\n",
                "    row_max = tl.full((B0, 1), -float(\"inf\"), tl.float32)\n",
                "    for j in range(0, T, B1):\n",
                "        col_offsets = tl.arange(0, B1) + j\n",
                "        block_coords = col_offsets[None, :] + row_offsets[:, None]*T\n",
                "        block_mask = (col_offsets[None, :] < T) & (row_offsets[:, None] < N0)\n",
                "\n",
                "        x = tl.load(x_ptr + block_coords, mask=block_mask, other=-float(\"inf\")) # (B0, B1)\n",
                "        new_row_max = tl.maximum(row_max, tl.max(x, axis=1))\n",
                "        max_reset_factor = tl.exp(row_max - new_row_max)\n",
                "        exp_sum = exp_sum*max_reset_factor + tl.sum(tl.exp(x - new_row_max), axis=1)\n",
                "\n",
                "        row_max = new_row_max\n",
                "\n",
                "    for j in range(0, T, B1):\n",
                "        col_offsets = tl.arange(0, B1) + j\n",
                "        block_coords = col_offsets[None, :] + row_offsets[:, None]*T\n",
                "        block_mask = (col_offsets[None, :] < T) & (row_offsets[:, None] < N0)\n",
                "\n",
                "        x = tl.load(x_ptr + block_coords, mask=block_mask, other=-float(\"inf\"))\n",
                "\n",
                "        tl.store(\n",
                "            z_ptr + block_coords,\n",
                "            tl.exp(x - row_max) / exp_sum,\n",
                "            mask=block_mask\n",
                "        )\n",
                "        \n",
                "\n",
                "test(softmax_kernel, softmax_spec, B={\"B0\": 1, \"B1\":32}, nelem={\"N0\": 4, \"N1\": 32, \"T\": 200})"
            ]
        },
        {
            "cell_type": "markdown",
            "id": "4Mlgj2yN_5Ss",
            "metadata": {
                "id": "4Mlgj2yN_5Ss"
            },
            "source": [
                "# Puzzle 9: Simple FlashAttention <!--4ZfqM6qDzJqrxWPCdRGMaS-->\n",
                "\n",
                "A scalar version of FlashAttention.\n",
                "\n",
                "- Each query, key vector only has 1 dim (hence scalar flash attention)\n",
                "- Uses zero programs. Block size `B0` represent the batches of `q` to process out of `N0`.\n",
                "- Sequence length is `T`. Process it `B1 < T` elements (`k`, `v`) at a time for some `B1`.\n",
                "- `N0` = `T`since `q` and `k` are the same size\n",
                "- Since in attention: qk, we're doing every pair-wise combination of each element of q and k:\n",
                "    - \\[T, N_MODEL\\] * \\[N_MODEL, T\\]\n",
                "    - N_MODEL = 1\n",
                "\n",
                "$$z_{i} = \\sum_{j} \\text{softmax}(q_1 k_1, \\ldots, q_T k_T)_j v_{j} \\text{ for } i = 1\\ldots N_0$$\n",
                "\n",
                "This can be done in 1 loop using a similar trick from the last puzzle.\n",
                "\n",
                "Hint: Use `tl.where` to mask `q dot k` to -inf to avoid overflow (NaN).\n",
                "\n",
                "![](imgs/puzzle_9.png)\n",
                "\n",
                "```python\n",
                "def flashatt_spec(q: Float32[Tensor, \"200\"], k: Float32[Tensor, \"200\"], v: Float32[Tensor, \"200\"]) -> Float32[Tensor, \"200\"]:\n",
                "    x = q[:, None] * k[None, :]\n",
                "    x_max = x.max(1, keepdim=True)[0]\n",
                "    x = x - x_max\n",
                "    x_exp = x.exp()\n",
                "    soft =  x_exp  / x_exp.sum(1, keepdim=True)\n",
                "    return (v[None, :] * soft).sum(1)\n",
                "\n",
                "@triton.jit\n",
                "def flashatt_kernel(q_ptr, k_ptr, v_ptr, z_ptr, N0, T, B0: tl.constexpr, B1: tl.constexpr):\n",
                "    return\n",
                "\n",
                "test(flashatt_kernel, flashatt_spec, B={\"B0\": 64, \"B1\": 32}, nelem={\"N0\": 200, \"T\": 200})\n",
                "```\n",
                "\n",
                "---"
            ]
        },
        {
            "cell_type": "code",
            "execution_count": 24,
            "id": "16078f2e-0569-4a38-accb-31d9fde58f34",
            "metadata": {},
            "outputs": [
                {
                    "name": "stdout",
                    "output_type": "stream",
                    "text": [
                        "q: jaxtyping.Float32[Tensor, '200']\n",
                        "k: jaxtyping.Float32[Tensor, '200']\n",
                        "v: jaxtyping.Float32[Tensor, '200']\n",
                        "Results match: True\n",
                        "Correct!\n"
                    ]
                }
            ],
            "source": [
                "def flashatt_spec(q: Float32[Tensor, \"200\"], k: Float32[Tensor, \"200\"], v: Float32[Tensor, \"200\"]) -> Float32[Tensor, \"200\"]:\n",
                "    x = q[:, None] * k[None, :]\n",
                "    x_max = x.max(1, keepdim=True)[0]\n",
                "    x = x - x_max\n",
                "    x_exp = x.exp()\n",
                "    soft =  x_exp  / x_exp.sum(1, keepdim=True)\n",
                "    return (v[None, :] * soft).sum(1)\n",
                "\n",
                "@triton.jit\n",
                "def flashatt_kernel(q_ptr, k_ptr, v_ptr, z_ptr, N0, T, B0: tl.constexpr, B1: tl.constexpr):\n",
                "    q_offset = tl.program_id(0)*B0 + tl.arange(0, B0)\n",
                "    q = tl.load(q_ptr + q_offset, mask = q_offset < N0)\n",
                "\n",
                "    exp_sum = tl.zeros((B0, 1), tl.float32)\n",
                "    row_max = tl.full((B0, 1), -float(\"inf\"), tl.float32)\n",
                "    o_partial = tl.zeros((B0, 1), tl.float32)\n",
                "    for j in range(0, T, B1):\n",
                "        k_offset = tl.arange(0, B1) + j\n",
                "        k = tl.load(k_ptr + k_offset, mask = k_offset < T)\n",
                "\n",
                "        block_mask = (q_offset[:, None] < N0) & (k_offset[None, :] < T)\n",
                "        qk = q[:, None] * k[None, :] + tl.where(block_mask, 0, -float(\"inf\")) # (B0, B1)\n",
                "\n",
                "        new_row_max = tl.maximum(row_max, tl.max(qk, axis=1)[:, None])\n",
                "        max_reset_factor = tl.exp(row_max - new_row_max)\n",
                "\n",
                "        exp_sum = exp_sum*max_reset_factor + tl.sum(tl.exp(qk - new_row_max), axis=1)[:, None]\n",
                "\n",
                "        v = tl.load(v_ptr + k_offset, mask = k_offset < T)\n",
                "        o_partial = o_partial*max_reset_factor + tl.sum(tl.exp(qk - new_row_max)*v[None, :], axis=1)[:, None]\n",
                "\n",
                "        row_max = new_row_max\n",
                "    \n",
                "    tl.store(\n",
                "        z_ptr + q_offset,\n",
                "        (o_partial / exp_sum).reshape((B0,)),\n",
                "        mask = q_offset < N0\n",
                "    )\n",
                "\n",
                "test(flashatt_kernel, flashatt_spec, B={\"B0\": 64, \"B1\": 32}, nelem={\"N0\": 200, \"T\": 200})"
            ]
        },
        {
            "cell_type": "markdown",
            "id": "ae12e14b-0da4-414c-9574-ab747b2be387",
            "metadata": {
                "id": "ae12e14b-0da4-414c-9574-ab747b2be387"
            },
            "source": [
                "# Puzzle 10: Two Dimensional Convolution <!--GuKDzvV9CkZUv3PwvFdeUE-->\n",
                "\n",
                "A batched 2D convolution.\n",
                "\n",
                "Uses one program id axis. Block size `B0` represent the batches to process out of `N0`.\n",
                "Image `x` is size is `H` by `W` with only 1 channel, and kernel `k` is size `KH` by `KW`.\n",
                "\n",
                "$$z_{i, j, k} = \\sum_{oj, ok} k_{oj,ok} \\times x_{i,j + oj, k + ok} \\text{ for } i = 1\\ldots N_0$$\n",
                "\n",
                "![](imgs/puzzle_10.png)\n",
                "\n",
                "```python\n",
                "def conv2d_spec(x: Float32[Tensor, \"4 8 8\"], k: Float32[Tensor, \"4 4\"]) -> Float32[Tensor, \"4 8 8\"]:\n",
                "    z = torch.zeros(4, 8, 8)\n",
                "    x = torch.nn.functional.pad(x, (0, 4, 0, 4, 0, 0), value=0.0)\n",
                "    print(x.shape, k.shape)\n",
                "    for i in range(8):\n",
                "        for j in range(8):\n",
                "            z[:, i, j] = (k[None, :, :] * x[:, i: i+4, j: j + 4]).sum(1).sum(1)\n",
                "    return z\n",
                "\n",
                "\n",
                "@triton.jit\n",
                "def conv2d_kernel(x_ptr, k_ptr, z_ptr, N0, H, W, KH: tl.constexpr, KW: tl.constexpr, B0: tl.constexpr):\n",
                "    pid_0 = tl.program_id(0)\n",
                "    return\n",
                "\n",
                "test(conv2d_kernel, conv2d_spec, B={\"B0\": 1}, nelem={\"N0\": 4, \"H\": 8, \"W\": 8, \"KH\": 4, \"KW\": 4})\n",
                "```\n",
                "\n",
                "---"
            ]
        },
        {
            "cell_type": "code",
            "execution_count": null,
            "id": "93d719ab-0f86-4314-b4b1-849fb76f511e",
            "metadata": {
                "id": "82214261-9c28-4d97-87e4-816c9cd4e6b2"
            },
            "outputs": [],
            "source": [
                "def conv2d_spec(x: Float32[Tensor, \"4 8 8\"], k: Float32[Tensor, \"4 4\"]) -> Float32[Tensor, \"4 8 8\"]:\n",
                "    z = torch.zeros(4, 8, 8)\n",
                "    x = torch.nn.functional.pad(x, (0, 4, 0, 4, 0, 0), value=0.0)\n",
                "    print(x.shape, k.shape)\n",
                "    for i in range(8):\n",
                "        for j in range(8):\n",
                "            z[:, i, j] = (k[None, :, :] * x[:, i: i+4, j: j + 4]).sum(1).sum(1)\n",
                "    return z\n",
                "\n",
                "@triton.jit\n",
                "def conv2d_kernel(x_ptr, k_ptr, z_ptr, N0, H, W, KH: tl.constexpr, KW: tl.constexpr, B0: tl.constexpr):\n",
                "    pid_0 = tl.program_id(0)\n",
                "    return\n",
                "\n",
                "test(conv2d_kernel, conv2d_spec, B={\"B0\": 1}, nelem={\"N0\": 4, \"H\": 8, \"W\": 8, \"KH\": 4, \"KW\": 4})"
            ]
        },
        {
            "cell_type": "markdown",
            "id": "d2752542-0161-48e2-9efc-f7a730ebc2a6",
            "metadata": {
                "id": "d2752542-0161-48e2-9efc-f7a730ebc2a6"
            },
            "source": [
                "# Puzzle 11: Matrix Multiplication <!--iAML6Vvvkqv9x9WeeDaZDK-->\n",
                "\n",
                "A blocked matrix multiplication.\n",
                "\n",
                "Uses three program id axes. Block size `B2` represent the batches to process out of `N2`.\n",
                "Block size `B0` represent the rows of `x` to process out of `N0`. Block size `B1` represent the cols of `y` to process out of `N1`. The middle shape is `MID`.\n",
                "\n",
                "$$z_{i, j, k} = \\sum_{l} x_{i,j, l} \\times y_{i, l, k} \\text{ for } i = 1\\ldots N_2, j = 1\\ldots N_0, k = 1\\ldots N_1$$\n",
                "\n",
                "You are allowed to use `tl.dot` which computes a smaller mat mul.\n",
                "\n",
                "Hint: the main trick is that you can split a matmul into smaller parts.\n",
                "\n",
                "$$z_{i, j, k} = \\sum_{l=1}^{L/2} x_{i,j, l} \\times y_{i, l, k} +  \\sum_{l=L/2}^{L} x_{i,j, l} \\times y_{i, l, k} $$\n"
            ]
        },
        {
            "cell_type": "markdown",
            "id": "XS3usMEX5tfy",
            "metadata": {
                "id": "XS3usMEX5tfy"
            },
            "source": [
                "![image.png](data:image/png;base64,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)"
            ]
        },
        {
            "cell_type": "code",
            "execution_count": null,
            "id": "111c598f-e402-400b-9b44-5514198fd9f3",
            "metadata": {
                "id": "111c598f-e402-400b-9b44-5514198fd9f3"
            },
            "outputs": [],
            "source": [
                "def dot_spec(x: Float32[Tensor, \"4 32 32\"], y: Float32[Tensor, \"4 32 32\"]) -> Float32[Tensor, \"4 32 32\"]:\n",
                "    return x @ y\n",
                "\n",
                "@triton.jit\n",
                "def dot_kernel(x_ptr, y_ptr, z_ptr, N0, N1, N2, MID, B0: tl.constexpr, B1: tl.constexpr, B2: tl.constexpr, B_MID: tl.constexpr):\n",
                "    pid_0 = tl.program_id(0)\n",
                "    pid_1 = tl.program_id(1)\n",
                "    pid_2 = tl.program_id(2)\n",
                "\n",
                "test(dot_kernel, dot_spec, B={\"B0\": 16, \"B1\": 16, \"B2\": 1, \"B_MID\": 16}, nelem={\"N0\": 32, \"N1\": 32, \"N2\": 4, \"MID\": 32})\n"
            ]
        },
        {
            "cell_type": "markdown",
            "id": "d8917111-6ceb-4491-9f7a-733dd4f29a04",
            "metadata": {
                "id": "d8917111-6ceb-4491-9f7a-733dd4f29a04"
            },
            "source": [
                "# Puzzle 12: Quantized Matrix Mult <!--VE6wuX9nQKgDeF67zbiV6C-->\n",
                "\n",
                "When doing matrix multiplication with quantized neural networks a common strategy is to store the weight matrix in lower precision, with a shift and scale term.\n",
                "\n",
                "For this problem our `weight` will be stored in 4 bits. We can store `FPINT` of these in a 32 bit integer. In addition for every `group` weights in order we will store 1 `scale` float value and 1 `shift` 4 bit value. We store these for the column of weight. The `activation`s are stored separately in standard floats.\n",
                "\n",
                "Mathematically it looks like.\n",
                "\n",
                "$$z_{j, k} = \\sum_{l} sc_{j, \\frac{l}{g}} (w_{j, l} - sh_{j, \\frac{l}{g}}) \\times y_{l, k} \\text{ for } i = 1\\ldots N_2, j = 1\\ldots N_0, k = 1\\ldots N_1$$\n",
                "\n",
                "However, it is a bit more complex since we need to also extract the 4-bit values into floats to begin.\n",
                "\n",
                "\n"
            ]
        },
        {
            "cell_type": "markdown",
            "id": "ilv-WOH5itpI",
            "metadata": {
                "id": "ilv-WOH5itpI"
            },
            "source": [
                "![image.png](data:image/png;base64,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)"
            ]
        },
        {
            "cell_type": "code",
            "execution_count": null,
            "id": "e5699ccd-d8f1-423f-816c-2a41abc8eb19",
            "metadata": {
                "id": "e5699ccd-d8f1-423f-816c-2a41abc8eb19"
            },
            "outputs": [],
            "source": [
                "\n",
                "FPINT = 32 // 4\n",
                "GROUP = 8\n",
                "\n",
                "def quant_dot_spec(scale : Float32[Tensor, \"32 8\"],\n",
                "                   offset : Int32[Tensor, \"32\"],\n",
                "                   weight: Int32[Tensor, \"32 8\"],\n",
                "                   activation: Float32[Tensor, \"64 32\"]) -> Float32[Tensor, \"32 32\"]:\n",
                "    offset = offset.view(32, 1)\n",
                "    def extract(x):\n",
                "        over = torch.arange(8) * 4\n",
                "        mask = 2**4 - 1\n",
                "        return (x[..., None] >> over) & mask\n",
                "    scale = scale[..., None].expand(-1, 8, GROUP).contiguous().view(-1, 64)\n",
                "    offset = extract(offset)[..., None].expand(-1, 1, 8, GROUP).contiguous().view(-1, 64)\n",
                "    return ( scale * (extract(weight).view(-1, 64) - offset))  @ activation\n",
                "\n",
                "@triton.jit\n",
                "def quant_dot_kernel(scale_ptr, offset_ptr, weight_ptr, activation_ptr,\n",
                "                     z_ptr, N0, N1, MID, B0: tl.constexpr, B1: tl.constexpr, B_MID: tl.constexpr):\n",
                "    pid_0 = tl.program_id(0)\n",
                "    pid_1 = tl.program_id(1)\n",
                "\n",
                "test(quant_dot_kernel, quant_dot_spec, B={\"B0\": 16, \"B1\": 16, \"B_MID\": 64},\n",
                "                                       nelem={\"N0\": 32, \"N1\": 32, \"MID\": 64})\n"
            ]
        }
    ],
    "metadata": {
        "colab": {
            "include_colab_link": true,
            "provenance": []
        },
        "kernelspec": {
            "display_name": "Python 3 (ipykernel)",
            "language": "python",
            "name": "python3"
        },
        "language_info": {
            "codemirror_mode": {
                "name": "ipython",
                "version": 3
            },
            "file_extension": ".py",
            "mimetype": "text/x-python",
            "name": "python",
            "nbconvert_exporter": "python",
            "pygments_lexer": "ipython3",
            "version": "3.12.8"
        },
        "anki": {
            "deck_id": 4479946469101502195
        }
    },
    "nbformat": 4,
    "nbformat_minor": 5
}